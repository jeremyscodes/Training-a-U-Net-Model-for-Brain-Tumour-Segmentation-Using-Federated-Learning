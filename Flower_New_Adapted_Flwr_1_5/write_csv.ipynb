{
 "cells": [
  {
   "cell_type": "code",
   "execution_count": 1,
   "metadata": {},
   "outputs": [],
   "source": [
    "import json\n",
    "import csv\n",
    "\n",
    "# Load the JSON data\n",
    "with open('../Task01_BrainTumour/dataset.json', 'r') as file:\n",
    "    data = json.load(file)\n",
    "\n",
    "# Extract the training data\n",
    "training_data = data['training']\n",
    "\n",
    "# Write the training data to a CSV file\n",
    "with open('dataset.csv', 'w', newline='') as file:\n",
    "    writer = csv.writer(file)\n",
    "    writer.writerow(['image'])  # Write the headers\n",
    "    for entry in training_data:\n",
    "        writer.writerow([entry['image']])\n"
   ]
  },
  {
   "cell_type": "code",
   "execution_count": 2,
   "metadata": {},
   "outputs": [
    {
     "name": "stdout",
     "output_type": "stream",
     "text": [
      "266\n"
     ]
    }
   ],
   "source": [
    "## For writing the test data to a CSV file\n",
    "import json\n",
    "import csv\n",
    "\n",
    "# Load the JSON data\n",
    "with open('../Task01_BrainTumour/dataset.json', 'r') as file:\n",
    "    data = json.load(file)\n",
    "\n",
    "# Extract the training data\n",
    "training_data = data['test']\n",
    "num_test_files = 0\n",
    "# Write the training data to a CSV file\n",
    "with open('dataset_test.csv', 'w', newline='') as file:\n",
    "    writer = csv.writer(file)\n",
    "    writer.writerow(['image'])  # Write the headers\n",
    "    for entry in training_data:\n",
    "        writer.writerow([entry])\n",
    "        num_test_files += 1\n",
    "print(num_test_files)\n"
   ]
  },
  {
   "cell_type": "code",
   "execution_count": 3,
   "metadata": {},
   "outputs": [
    {
     "name": "stdout",
     "output_type": "stream",
     "text": [
      "Number of rows in train_data: 484\n"
     ]
    }
   ],
   "source": [
    "import pandas as pd\n",
    "train_data = pd.read_csv('BRaTSdataset_filenames.csv')\n",
    "#print numer of rows in train_data\n",
    "print(\"Number of rows in train_data:\",len(train_data))"
   ]
  },
  {
   "cell_type": "code",
   "execution_count": 2,
   "metadata": {},
   "outputs": [],
   "source": [
    "import csv\n",
    "\n",
    "input_filename = 'test_file_paths.csv'\n",
    "output_filename = 'test_file_paths_clean.csv'\n",
    "\n",
    "with open(input_filename, 'r') as csvfile:\n",
    "    reader = csv.reader(csvfile)\n",
    "    rows = [row for row in reader]\n",
    "    \n",
    "    modified_rows = []\n",
    "    for row in rows:\n",
    "        modified_row = [cell.replace('../Task01_BrainTumour/', '') for cell in row]\n",
    "        modified_rows.append(modified_row)\n",
    "\n",
    "with open(output_filename, 'w', newline='') as csvfile:\n",
    "    writer = csv.writer(csvfile)\n",
    "    writer.writerows(modified_rows)\n"
   ]
  },
  {
   "cell_type": "code",
   "execution_count": 4,
   "metadata": {},
   "outputs": [],
   "source": [
    "import csv\n",
    "\n",
    "input_filename = 'test_file_paths_clean.csv'\n",
    "output_filename = 'test_file_paths_clean.csv'\n",
    "\n",
    "with open(input_filename, 'r') as csvfile:\n",
    "    reader = csv.reader(csvfile)\n",
    "    rows = [row for row in reader]\n",
    "    \n",
    "    modified_rows = []\n",
    "    for row in rows:\n",
    "        modified_row = [cell.replace('./labelsTr/', './imagesTr/') for cell in row]\n",
    "        modified_rows.append(modified_row)\n",
    "\n",
    "with open(output_filename, 'w', newline='') as csvfile:\n",
    "    writer = csv.writer(csvfile)\n",
    "    writer.writerows(modified_rows)\n"
   ]
  }
 ],
 "metadata": {
  "kernelspec": {
   "display_name": "Python 3",
   "language": "python",
   "name": "python3"
  },
  "language_info": {
   "codemirror_mode": {
    "name": "ipython",
    "version": 3
   },
   "file_extension": ".py",
   "mimetype": "text/x-python",
   "name": "python",
   "nbconvert_exporter": "python",
   "pygments_lexer": "ipython3",
   "version": "3.8.1"
  },
  "orig_nbformat": 4
 },
 "nbformat": 4,
 "nbformat_minor": 2
}
