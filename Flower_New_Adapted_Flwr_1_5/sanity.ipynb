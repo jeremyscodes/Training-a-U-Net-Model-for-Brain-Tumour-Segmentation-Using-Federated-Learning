{
 "cells": [
  {
   "cell_type": "code",
   "execution_count": 7,
   "metadata": {},
   "outputs": [
    {
     "name": "stdout",
     "output_type": "stream",
     "text": [
      "(484, 1)\n",
      "Rows in full data:  484\n",
      "Rows in test data:  49\n",
      "Rows in full data:  435\n",
      "Rows in test data:  49\n",
      "Rows in both dataframes:  0\n"
     ]
    }
   ],
   "source": [
    "import pandas as pd\n",
    "full_data = pd.read_csv('BRaTSdataset_filenames.csv')\n",
    "test_data = pd.read_csv('test_file_paths_clean.csv')\n",
    "# print number of rows in each dataframe\n",
    "print(full_data.shape)\n",
    "print(\"Rows in full data: \",len(full_data))\n",
    "print(\"Rows in test data: \",len(test_data))\n",
    "\n",
    "\n",
    "# Remove test_data rows from full_data to avoid overlap\n",
    "train_data = full_data[~full_data['path'].isin(test_data['path'])]\n",
    "train_data = train_data.reset_index(drop=True)\n",
    "\n",
    "\n",
    "print(\"Rows in full data: \",len(train_data))\n",
    "print(\"Rows in test data: \",len(test_data))\n",
    "\n",
    "# print rows that appear in both dataframes\n",
    "print(\"Rows in both dataframes: \",len(train_data[train_data['path'].isin(test_data['path'])]))"
   ]
  }
 ],
 "metadata": {
  "kernelspec": {
   "display_name": "Python 3",
   "language": "python",
   "name": "python3"
  },
  "language_info": {
   "codemirror_mode": {
    "name": "ipython",
    "version": 3
   },
   "file_extension": ".py",
   "mimetype": "text/x-python",
   "name": "python",
   "nbconvert_exporter": "python",
   "pygments_lexer": "ipython3",
   "version": "3.8.1"
  }
 },
 "nbformat": 4,
 "nbformat_minor": 2
}
