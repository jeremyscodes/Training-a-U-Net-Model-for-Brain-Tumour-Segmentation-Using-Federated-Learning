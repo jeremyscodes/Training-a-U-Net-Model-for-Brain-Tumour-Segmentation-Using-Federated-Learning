{
 "cells": [
  {
   "cell_type": "code",
   "execution_count": 1,
   "metadata": {},
   "outputs": [],
   "source": [
    "import json\n",
    "import csv\n",
    "\n",
    "# Load the JSON data\n",
    "with open('../Task01_BrainTumour/dataset.json', 'r') as file:\n",
    "    data = json.load(file)\n",
    "\n",
    "# Extract the training data\n",
    "training_data = data['training']\n",
    "\n",
    "# Write the training data to a CSV file\n",
    "with open('dataset.csv', 'w', newline='') as file:\n",
    "    writer = csv.writer(file)\n",
    "    writer.writerow(['image'])  # Write the headers\n",
    "    for entry in training_data:\n",
    "        writer.writerow([entry['image']])\n"
   ]
  },
  {
   "cell_type": "code",
   "execution_count": 2,
   "metadata": {},
   "outputs": [
    {
     "name": "stdout",
     "output_type": "stream",
     "text": [
      "266\n"
     ]
    }
   ],
   "source": [
    "## For writing the test data to a CSV file\n",
    "import json\n",
    "import csv\n",
    "\n",
    "# Load the JSON data\n",
    "with open('../Task01_BrainTumour/dataset.json', 'r') as file:\n",
    "    data = json.load(file)\n",
    "\n",
    "# Extract the training data\n",
    "training_data = data['test']\n",
    "num_test_files = 0\n",
    "# Write the training data to a CSV file\n",
    "with open('dataset_test.csv', 'w', newline='') as file:\n",
    "    writer = csv.writer(file)\n",
    "    writer.writerow(['image'])  # Write the headers\n",
    "    for entry in training_data:\n",
    "        writer.writerow([entry])\n",
    "        num_test_files += 1\n",
    "print(num_test_files)\n"
   ]
  },
  {
   "cell_type": "code",
   "execution_count": 3,
   "metadata": {},
   "outputs": [
    {
     "name": "stdout",
     "output_type": "stream",
     "text": [
      "Number of rows in train_data: 484\n"
     ]
    }
   ],
   "source": [
    "import pandas as pd\n",
    "train_data = pd.read_csv('BRaTSdataset_filenames.csv')\n",
    "#print numer of rows in train_data\n",
    "print(\"Number of rows in train_data:\",len(train_data))"
   ]
  },
  {
   "cell_type": "code",
   "execution_count": null,
   "metadata": {},
   "outputs": [],
   "source": []
  }
 ],
 "metadata": {
  "kernelspec": {
   "display_name": "Python 3",
   "language": "python",
   "name": "python3"
  },
  "language_info": {
   "codemirror_mode": {
    "name": "ipython",
    "version": 3
   },
   "file_extension": ".py",
   "mimetype": "text/x-python",
   "name": "python",
   "nbconvert_exporter": "python",
   "pygments_lexer": "ipython3",
   "version": "3.8.1"
  },
  "orig_nbformat": 4
 },
 "nbformat": 4,
 "nbformat_minor": 2
}
